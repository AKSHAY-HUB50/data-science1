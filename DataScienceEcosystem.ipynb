{
 "cells": [
  {
   "cell_type": "markdown",
   "id": "9ad1199a-3f84-49bc-923f-9edb37409452",
   "metadata": {},
   "source": [
    "# Data Science Tools and Ecosystem"
   ]
  },
  {
   "cell_type": "markdown",
   "id": "9d325d7b-1acf-4d27-8516-a54e1adcd515",
   "metadata": {
    "tags": []
   },
   "source": [
    "In this notebook, Data Science Tools and Ecosystem are summarized."
   ]
  },
  {
   "cell_type": "markdown",
   "id": "c3f8fcfd-75b4-4539-bbd5-9ec92a2a4103",
   "metadata": {},
   "source": [
    " Some of the popular languages that Data Scientists use are:\n",
    "1. Python\n",
    "2. R\n",
    "3. Scala\n",
    "4. SQL\n",
    "5. java"
   ]
  },
  {
   "cell_type": "markdown",
   "id": "14faa94b-f085-40ea-8888-85a6bb6b1fd0",
   "metadata": {},
   "source": [
    " Some of the commonly used libraries used by Data Scientists include:\n",
    "\n",
    "1. Pandas\n",
    "2. NumPy\n",
    "3. Matplotlib"
   ]
  },
  {
   "cell_type": "markdown",
   "id": "f82394dd-6801-4d8b-9c3b-ce271df42c2a",
   "metadata": {
    "tags": []
   },
   "source": [
    "| Data Science Tools |\n",
    "|--------------------    |\n",
    "| Jupyter Notebook   |\n",
    "| RStudio            |\n",
    "| Spyder             |\n"
   ]
  },
  {
   "cell_type": "markdown",
   "id": "bfb8e177-9b51-4de7-af23-621c61b368cd",
   "metadata": {},
   "source": [
    "### Below are a few examples of evaluating arithmetic expressions in Python.\n"
   ]
  },
  {
   "cell_type": "markdown",
   "id": "1d47789e-c82a-4c12-ac89-2ce8ca6cc46f",
   "metadata": {},
   "source": [
    "This a simple arithmetic expression to mutiply then add integers."
   ]
  },
  {
   "cell_type": "code",
   "execution_count": 3,
   "id": "1deea8be-a8e7-467f-badd-921dbad91ffd",
   "metadata": {
    "tags": []
   },
   "outputs": [
    {
     "data": {
      "text/plain": [
       "17"
      ]
     },
     "execution_count": 3,
     "metadata": {},
     "output_type": "execute_result"
    }
   ],
   "source": [
    "(3*4)+5"
   ]
  },
  {
   "cell_type": "markdown",
   "id": "8f56d911-2f4b-45e1-9525-2e4651785671",
   "metadata": {},
   "source": [
    "This will convert 200 minutes to hours by diving by 60."
   ]
  },
  {
   "cell_type": "code",
   "execution_count": 5,
   "id": "24c9ca90-c7ce-4e6f-88fc-d5907ec592db",
   "metadata": {
    "tags": []
   },
   "outputs": [
    {
     "data": {
      "text/plain": [
       "3.3333333333333335"
      ]
     },
     "execution_count": 5,
     "metadata": {},
     "output_type": "execute_result"
    }
   ],
   "source": [
    "minutes = 200\n",
    "hours = minutes / 60\n",
    "hours"
   ]
  },
  {
   "cell_type": "markdown",
   "id": "026d0f4d-2e89-43dc-85fd-57239a3c679e",
   "metadata": {},
   "source": [
    "**Objectives:**\n",
    "\n",
    "- List popular languages for Data Science.\n",
    "- Summarize commonly used data science libraries.\n",
    "- Introduce arithmetic expressions in Python.\n",
    "- Explore data science tools and environments.\n"
   ]
  },
  {
   "cell_type": "markdown",
   "id": "e8dc5d43-4527-4ba5-a161-776dd6630076",
   "metadata": {},
   "source": [
    "## Author\n",
    "\n",
    "Akshay Badiger\n"
   ]
  },
  {
   "cell_type": "code",
   "execution_count": null,
   "id": "876890af-9819-4852-b431-2c11e749b7b3",
   "metadata": {},
   "outputs": [],
   "source": []
  }
 ],
 "metadata": {
  "kernelspec": {
   "display_name": "Python",
   "language": "python",
   "name": "conda-env-python-py"
  },
  "language_info": {
   "codemirror_mode": {
    "name": "ipython",
    "version": 3
   },
   "file_extension": ".py",
   "mimetype": "text/x-python",
   "name": "python",
   "nbconvert_exporter": "python",
   "pygments_lexer": "ipython3",
   "version": "3.7.12"
  }
 },
 "nbformat": 4,
 "nbformat_minor": 5
}
